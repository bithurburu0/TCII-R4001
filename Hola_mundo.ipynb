{
 "cells": [
  {
   "cell_type": "markdown",
   "id": "1b7444d9-a635-4fc7-9688-4729e45f1742",
   "metadata": {},
   "source": [
    "<img src=\"./logo_UTN.svg\" align=\"right\" width=\"250\" /> \n",
    "\n",
    "#### Teoría de Circuitos II - R4001\n",
    "# ¡Hola mundo!\n",
    "#### Benjamín Ithurburu"
   ]
  },
  {
   "cell_type": "code",
   "execution_count": null,
   "id": "dd89af69-f208-41c9-976d-c656799b40ae",
   "metadata": {},
   "outputs": [],
   "source": []
  }
 ],
 "metadata": {
  "kernelspec": {
   "display_name": "Python 3 (ipykernel)",
   "language": "python",
   "name": "python3"
  },
  "language_info": {
   "codemirror_mode": {
    "name": "ipython",
    "version": 3
   },
   "file_extension": ".py",
   "mimetype": "text/x-python",
   "name": "python",
   "nbconvert_exporter": "python",
   "pygments_lexer": "ipython3",
   "version": "3.11.7"
  }
 },
 "nbformat": 4,
 "nbformat_minor": 5
}
