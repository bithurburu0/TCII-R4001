{
 "cells": [
  {
   "cell_type": "markdown",
   "id": "b8e43726-f951-4eb5-8d6d-1f86e4104d84",
   "metadata": {},
   "source": [
    "<img src=\"./logo_UTN.svg\" align=\"right\" width=\"250\" /> \n",
    "\n",
    "#### Teoría de Circuitos II - R4001\n",
    "# Trabajo semanal 2\n",
    "#### Benjamín Ithurburu"
   ]
  },
  {
   "cell_type": "markdown",
   "id": "64467883-ed3e-4606-b79e-c5f273c3c2d9",
   "metadata": {},
   "source": [
    "Esta es una entrega parcial. No lo terminé ya que necesitaba quitarme algunas dudas. Luego de despejarlas, las resuelvo y cargo todo lo que tengo al notebook."
   ]
  },
  {
   "cell_type": "code",
   "execution_count": 2,
   "id": "e5681d69-eb35-45e6-95fd-e74b8b1d2310",
   "metadata": {},
   "outputs": [
    {
     "data": {
      "text/html": [
       "\n",
       "        <iframe\n",
       "            width=\"1000\"\n",
       "            height=\"1000\"\n",
       "            src=\"./Trabajo semanal 2.pdf\"\n",
       "            frameborder=\"0\"\n",
       "            allowfullscreen\n",
       "            \n",
       "        ></iframe>\n",
       "        "
      ],
      "text/plain": [
       "<IPython.lib.display.IFrame at 0x271627b3590>"
      ]
     },
     "execution_count": 2,
     "metadata": {},
     "output_type": "execute_result"
    }
   ],
   "source": [
    "from IPython.display import IFrame\n",
    "IFrame(\"./Trabajo semanal 2.pdf\", width=1000, height=1000)"
   ]
  },
  {
   "cell_type": "code",
   "execution_count": null,
   "id": "5ff0b518-1382-43a3-87e1-0ead726fedc5",
   "metadata": {},
   "outputs": [],
   "source": []
  }
 ],
 "metadata": {
  "kernelspec": {
   "display_name": "Python 3 (ipykernel)",
   "language": "python",
   "name": "python3"
  },
  "language_info": {
   "codemirror_mode": {
    "name": "ipython",
    "version": 3
   },
   "file_extension": ".py",
   "mimetype": "text/x-python",
   "name": "python",
   "nbconvert_exporter": "python",
   "pygments_lexer": "ipython3",
   "version": "3.11.7"
  }
 },
 "nbformat": 4,
 "nbformat_minor": 5
}
